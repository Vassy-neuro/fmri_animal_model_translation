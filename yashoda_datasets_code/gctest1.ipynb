{
 "cells": [
  {
   "cell_type": "code",
   "execution_count": 9,
   "id": "379b2738-a072-4fd1-bae7-03242ef00731",
   "metadata": {},
   "outputs": [],
   "source": [
    "##Testing Group lasso att. 1\n",
    "import pandas as pd\n",
    "import numpy as np\n",
    "from sklearn.preprocessing import StandardScaler\n",
    "from sklearn.model_selection import StratifiedKFold\n",
    "from sklearn.metrics import roc_auc_score\n",
    "from group_lasso import LogisticGroupLasso\n",
    "import collections\n",
    "import matplotlib.pyplot as plt\n"
   ]
  },
  {
   "cell_type": "code",
   "execution_count": 10,
   "id": "ac2925a7-9184-425a-a5c9-8b9db825fccc",
   "metadata": {},
   "outputs": [],
   "source": [
    "\n",
    "# --- Step 1: Load data ---\n",
    "df = pd.read_csv('gc_network_wide_with_depression_filtered.tsv', sep='\\t')\n",
    "\n",
    "# Basic sanity check on the data\n",
    "assert df.shape[0] > 0, \"No rows found in the dataset.\"\n",
    "assert 'depression_binary' in df.columns, \"Target column 'depression_binary' missing.\"\n",
    "\n",
    "# Extract feature columns\n",
    "feature_cols = [c for c in df.columns if c not in ['participant_id', 'depression_binary']]\n",
    "assert feature_cols, \"No connectivity features found.\"\n",
    "\n",
    "X = df[feature_cols].astype(float).values\n",
    "y = df['depression_binary'].values\n",
    "\n"
   ]
  },
  {
   "cell_type": "code",
   "execution_count": 11,
   "id": "c8ef62b1-1df9-4b8e-9e3e-230dc0fe01de",
   "metadata": {},
   "outputs": [],
   "source": [
    "# --- Step 2: Standardise predictors ---\n",
    "scaler = StandardScaler()\n",
    "X_scaled = scaler.fit_transform(X)\n",
    "\n",
    "# Check for NaNs after scaling\n",
    "assert not np.isnan(X_scaled).any(), \"NaN values encountered after scaling.\"\n"
   ]
  },
  {
   "cell_type": "code",
   "execution_count": 12,
   "id": "977b21af-ffb6-4107-82fb-87ef4f41b9b9",
   "metadata": {},
   "outputs": [],
   "source": [
    "\n",
    "# --- Step 3: Create group mapping ---\n",
    "group_names = []\n",
    "groups = []\n",
    "for col in feature_cols:\n",
    "    group = col.split('-')[0]\n",
    "    if group not in group_names:\n",
    "        group_names.append(group)\n",
    "    groups.append(group_names.index(group))\n",
    "groups = np.array(groups)\n",
    "\n",
    "# Ensure that we have at least two distinct groups\n",
    "assert len(set(groups)) > 1, \"Grouping failed: fewer than two groups detected.\"\n",
    "\n"
   ]
  },
  {
   "cell_type": "code",
   "execution_count": 24,
   "id": "f474cbf0-c868-4377-a8b7-567a588c7f1b",
   "metadata": {},
   "outputs": [
    {
     "name": "stdout",
     "output_type": "stream",
     "text": [
      "Cross‑validated AUCs: {0.01: 0.5206193588546529, 0.05: 0.5, 0.1: 0.5, 0.2: 0.5, 0.5: 0.5, 1.0: 0.5}\n",
      "Selected group regularisation: 0.01  (AUC = 0.5206193588546529 )\n",
      "Warning: the best AUC does not exceed 0.6; predictive performance may be poor.\n"
     ]
    }
   ],
   "source": [
    "# --- Step 4: Cross‑validate to select regularisation strength ---\n",
    "regs = [0.01, 0.05, 0.1, 0.2, 0.5, 1.0]\n",
    "cv = StratifiedKFold(n_splits=5, shuffle=True, random_state=42)\n",
    "\n",
    "cv_results = {}\n",
    "best_reg = None\n",
    "best_auc = -np.inf\n",
    "\n",
    "for reg in regs:\n",
    "    aucs = []\n",
    "    for train_idx, test_idx in cv.split(X_scaled, y):\n",
    "        model = LogisticGroupLasso(\n",
    "            groups=groups,\n",
    "            group_reg=reg,\n",
    "            l1_reg=0,\n",
    "            n_iter=1000,\n",
    "            tol=1e-3,\n",
    "            scale_reg='group_size',\n",
    "            fit_intercept=True,\n",
    "            supress_warning=True\n",
    "        )\n",
    "        model.fit(X_scaled[train_idx], y[train_idx])\n",
    "        y_pred = model.predict_proba(X_scaled[test_idx])[:, 1]\n",
    "        aucs.append(roc_auc_score(y[test_idx], y_pred))\n",
    "    mean_auc = np.mean(aucs)\n",
    "    cv_results[reg] = mean_auc\n",
    "    if mean_auc > best_auc:\n",
    "        best_auc = mean_auc\n",
    "        best_reg = reg\n",
    "\n",
    "# Check that cross‑validation produced a valid result\n",
    "assert best_reg is not None, \"Cross‑validation failed to select a regularisation parameter.\"\n",
    "assert not np.isnan(best_auc), \"AUC computation failed during cross‑validation.\"\n",
    "\n",
    "print(\"Cross‑validated AUCs:\", cv_results)\n",
    "print(\"Selected group regularisation:\", best_reg, \" (AUC =\", best_auc, \")\")\n",
    "\n",
    "# Optional sanity test: warn if the best AUC does not exceed random chance\n",
    "if best_auc <= 0.6:\n",
    "    print(\"Warning: the best AUC does not exceed 0.6; predictive performance may be poor.\")\n"
   ]
  },
  {
   "cell_type": "code",
   "execution_count": 25,
   "id": "dcb47140-01c5-4a64-a8a4-bbd8e36d4829",
   "metadata": {},
   "outputs": [],
   "source": [
    "\n",
    "# --- Step 5: Fit final model using the chosen parameter ---\n",
    "final_model = LogisticGroupLasso(\n",
    "    groups=groups,\n",
    "    group_reg=best_reg,\n",
    "    l1_reg=0,\n",
    "    n_iter=2000,\n",
    "    tol=1e-4,\n",
    "    scale_reg='group_size',\n",
    "    fit_intercept=True,\n",
    "    supress_warning=True\n",
    ")\n",
    "final_model.fit(X_scaled, y)\n",
    "\n",
    "# Check that at least one group was selected\n",
    "assert getattr(final_model, 'chosen_groups_', None), \"No groups were selected by the group lasso.\"\n",
    "\n"
   ]
  },
  {
   "cell_type": "code",
   "execution_count": 26,
   "id": "c75c12af-9d9d-4f27-af10-e9b8836eb18c",
   "metadata": {},
   "outputs": [
    {
     "name": "stdout",
     "output_type": "stream",
     "text": [
      "Groups selected by the model: ['ContA', 'ContB', 'ContC', 'DefaultA', 'DefaultB', 'DefaultC', 'DorsAttnA', 'DorsAttnB', 'LimbicB', 'SalVentAttnA', 'SalVentAttnB', 'SomMotA', 'SomMotB', 'TempPar', 'VisCent', 'VisPeri']\n"
     ]
    }
   ],
   "source": [
    "# --- Step 6: Compute group importance ---\n",
    "coefs = final_model.coef_[0]  # For binary classification, shape (n_features,)\n",
    "norms = collections.defaultdict(float)\n",
    "for coef, gidx in zip(coefs, groups):\n",
    "    norms[group_names[gidx]] += coef**2\n",
    "for group in norms:\n",
    "    norms[group] = np.sqrt(norms[group])\n",
    "\n",
    "# Ensure at least one non‑zero norm\n",
    "assert any(val > 0 for val in norms.values()), \"All group coefficient norms are zero.\"\n",
    "\n",
    "selected_groups = [group_names[idx] for idx in final_model.chosen_groups_]\n",
    "print(\"Groups selected by the model:\", selected_groups)"
   ]
  },
  {
   "cell_type": "code",
   "execution_count": 19,
   "id": "a5512f7b-07e3-4fa1-8000-00cc197a30d4",
   "metadata": {},
   "outputs": [
    {
     "data": {
      "image/png": "[encoded data removed]",
      "text/plain": [
       "<Figure size 1000x500 with 1 Axes>"
      ]
     },
     "metadata": {},
     "output_type": "display_data"
    }
   ],
   "source": []
  },
  {
   "cell_type": "code",
   "execution_count": null,
   "id": "1b654a10-9304-4439-8a70-386819bdade0",
   "metadata": {},
   "outputs": [],
   "source": []
  }
 ],
 "metadata": {
  "kernelspec": {
   "display_name": "Python 3 (ipykernel)",
   "language": "python",
   "name": "python3"
  },
  "language_info": {
   "codemirror_mode": {
    "name": "ipython",
    "version": 3
   },
   "file_extension": ".py",
   "mimetype": "text/x-python",
   "name": "python",
   "nbconvert_exporter": "python",
   "pygments_lexer": "ipython3",
   "version": "3.11.11"
  }
 },
 "nbformat": 4,
 "nbformat_minor": 5
}
