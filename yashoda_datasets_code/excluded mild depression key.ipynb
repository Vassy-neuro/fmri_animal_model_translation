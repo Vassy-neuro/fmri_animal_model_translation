{
 "cells": [
  {
   "cell_type": "code",
   "execution_count": 6,
   "id": "dd9a0506-d8c7-4255-8bf0-73b86c3ed385",
   "metadata": {},
   "outputs": [
    {
     "name": "stdout",
     "output_type": "stream",
     "text": [
      "Saved binary labels for 168 participants.\n"
     ]
    }
   ],
   "source": [
    "import pandas as pd\n",
    "\n",
    "# --- 1. Read the original file ---\n",
    "df = pd.read_csv(\"depression_factors.tsv\", sep=\"\\t\")\n",
    "\n",
    "# --- 2. Normalise the column name and clean text ---\n",
    "scale_col = \"scale\" if \"scale\" in df.columns else \"Scale\"\n",
    "if scale_col not in df.columns:\n",
    "    raise ValueError(\"No column named 'scale' or 'Scale' found.\")\n",
    "\n",
    "df[scale_col] = df[scale_col].str.strip().str.lower()\n",
    "\n",
    "# --- 3. Map categories to binary labels (others -> NaN) ---\n",
    "mapping = {\n",
    "    \"moderate depression\": 1,\n",
    "    \"severe depression\": 1,\n",
    "    \"normal/symptom absent\": 0,\n",
    "}\n",
    "\n",
    "df[\"depression_binary\"] = df[scale_col].map(mapping)\n",
    "\n",
    "# --- 4. Keep only desired rows and columns ---\n",
    "binary_df = df[[\"participant_id\", \"depression_binary\"]].dropna()\n",
    "\n",
    "# --- 5. Smoke / sanity checks ---\n",
    "assert binary_df[\"participant_id\"].is_unique, (\n",
    "    \"Duplicate participant IDs found after mapping.\"\n",
    ")\n",
    "assert not (df[scale_col] == \"mild depression\").isin(binary_df[\"participant_id\"]).any(), (\n",
    "    \"Rows with mild depression slipped through the filter.\"\n",
    ")\n",
    "\n",
    "# --- 6. Write the new key ---\n",
    "binary_df.to_csv(\"depression_factors_binary_withoutmild.tsv\", sep=\"\\t\", index=False)\n",
    "print(f\"Saved binary labels for {len(binary_df)} participants.\")\n"
   ]
  },
  {
   "cell_type": "code",
   "execution_count": null,
   "id": "62f4f4dd-7e96-4dbf-a1f5-01eaa3b835c6",
   "metadata": {},
   "outputs": [],
   "source": []
  }
 ],
 "metadata": {
  "kernelspec": {
   "display_name": "Python 3 (ipykernel)",
   "language": "python",
   "name": "python3"
  },
  "language_info": {
   "codemirror_mode": {
    "name": "ipython",
    "version": 3
   },
   "file_extension": ".py",
   "mimetype": "text/x-python",
   "name": "python",
   "nbconvert_exporter": "python",
   "pygments_lexer": "ipython3",
   "version": "3.11.11"
  }
 },
 "nbformat": 4,
 "nbformat_minor": 5
}
