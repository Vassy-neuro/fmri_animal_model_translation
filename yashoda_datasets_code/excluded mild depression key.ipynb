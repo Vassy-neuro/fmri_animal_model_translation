{
 "cells": [
  {
   "cell_type": "code",
   "execution_count": 4,
   "id": "dd9a0506-d8c7-4255-8bf0-73b86c3ed385",
   "metadata": {},
   "outputs": [
    {
     "name": "stdout",
     "output_type": "stream",
     "text": [
      "Saved binary labels for 226 participants.\n"
     ]
    }
   ],
   "source": [
    "import pandas as pd\n",
    "\n",
    "# Read the original depression scale file\n",
    "df = pd.read_csv('depression_factors.tsv', sep='\\t')\n",
    "\n",
    "# Define the mapping for the binary label\n",
    "mapping = {\n",
    "    'moderate depression': 1,\n",
    "    'severe depression': 1,\n",
    "    'mild depression': 0,\n",
    "    'normal/symptom absent': 0,\n",
    "}\n",
    "\n",
    "# Apply the mapping; unmapped values become NaN\n",
    "df['depression_binary'] = df['scale'].map(mapping)\n",
    "\n",
    "# Select relevant columns and drop any rows where depression_binary is NaN\n",
    "binary_df = df[['participant_id', 'depression_binary']].dropna()\n",
    "\n",
    "# Optional sanity check: ensure one row per participant\n",
    "assert binary_df['participant_id'].is_unique, \"Duplicate participant IDs found after mapping.\"\n",
    "\n",
    "# Write to a new TSV file\n",
    "binary_df.to_csv('depression_factors_binary.tsv', sep='\\t', index=False)\n",
    "print('Saved binary labels for', len(binary_df), 'participants.')\n"
   ]
  },
  {
   "cell_type": "code",
   "execution_count": null,
   "id": "62f4f4dd-7e96-4dbf-a1f5-01eaa3b835c6",
   "metadata": {},
   "outputs": [],
   "source": []
  }
 ],
 "metadata": {
  "kernelspec": {
   "display_name": "Python 3 (ipykernel)",
   "language": "python",
   "name": "python3"
  },
  "language_info": {
   "codemirror_mode": {
    "name": "ipython",
    "version": 3
   },
   "file_extension": ".py",
   "mimetype": "text/x-python",
   "name": "python",
   "nbconvert_exporter": "python",
   "pygments_lexer": "ipython3",
   "version": "3.11.11"
  }
 },
 "nbformat": 4,
 "nbformat_minor": 5
}
