{
 "cells": [
  {
   "cell_type": "markdown",
   "id": "5502f097-1d75-4746-a2b5-86431c69835b",
   "metadata": {},
   "source": [
    "# This script is designed to process data from a TSV file and categorize its column names. It utilizes the pandas library for data handling and the json library to save the output in a structured format. The primary function of the script is to create a dictionary where each main category (e.g., ContA) acts as a key, and its value is a list of all related label pairs (e.g., ['ContA:ContB', 'ContA:ContC'])."
   ]
  },
  {
   "cell_type": "code",
   "execution_count": null,
   "id": "1e7d6802-e686-4b13-96d2-ca6696f2998c",
   "metadata": {},
   "outputs": [],
   "source": [
    "import pandas as pd\n",
    "import json\n",
    "\n",
    "def load_data(file_path):\n",
    "    \"\"\"Loads a TSV file into a pandas DataFrame.\"\"\"\n",
    "    return pd.read_csv(file_path, sep='\\t')\n",
    "\n",
    "def group_labels_by_category(df):\n",
    "    \"\"\"\n",
    "    Groups labels of the format 'CategoryA:CategoryB' into a dictionary.\n",
    "    \n",
    "    The dictionary keys will be the main categories (e.g., 'ContA'), \n",
    "    and the values will be a list of related label pairs.\n",
    "    \"\"\"\n",
    "    labels_dict = {}\n",
    "    for col in df.columns:\n",
    "        # Assuming the column names are in the format 'Prefix1-Prefix2...'\n",
    "        parts = col.split('-')\n",
    "        \n",
    "        # We need at least two parts to form a pair\n",
    "        if len(parts) >= 2:\n",
    "            main_category = parts[0]\n",
    "            label_pair = f\"{parts[0]}:{parts[1]}\"\n",
    "            \n",
    "            # Add the label pair to the list for the main category\n",
    "            if main_category not in labels_dict:\n",
    "                labels_dict[main_category] = []\n",
    "            labels_dict[main_category].append(label_pair)\n",
    "    \n",
    "    return labels_dict"
   ]
  },
  {
   "cell_type": "code",
   "execution_count": null,
   "id": "af24a96f-0067-4693-8301-f6e796da7976",
   "metadata": {},
   "outputs": [],
   "source": [
    "if __name__ == \"__main__\":\n",
    "    file_path = 'yashoda_datasets_code/gc_network_wide_with_depression_filtered.tsv'\n",
    "    \n",
    "    try:\n",
    "        # Load the data from the specified TSV file path\n",
    "        data_df = load_data(file_path)\n",
    "        \n",
    "        # Call the function to group the labels into a dictionary\n",
    "        grouped_labels = group_labels_by_category(data_df)\n",
    "        \n",
    "        # Print the resulting dictionary to the console\n",
    "        print(\"Grouped labels by category:\")\n",
    "        print(json.dumps(grouped_labels, indent=4))\n",
    "        \n",
    "        # Define the output file path for the JSON file\n",
    "        output_file_path = 'grouped_labels.json'\n",
    "        \n",
    "        # Save the dictionary to a JSON file for future use\n",
    "        with open(output_file_path, 'w') as f:\n",
    "            json.dump(grouped_labels, f, indent=4)\n",
    "        \n",
    "        # Print a success message to the console\n",
    "        print(f\"\\nLabels saved to '{output_file_path}'\")\n",
    "        \n",
    "    except FileNotFoundError:\n",
    "        print(f\"Error: File not found at the specified path: {file_path}\")\n",
    "    except Exception as e:\n",
    "        print(f\"An error occurred: {e}\")"
   ]
  }
 ],
 "metadata": {
  "kernelspec": {
   "display_name": "Python 3 (ipykernel)",
   "language": "python",
   "name": "python3"
  },
  "language_info": {
   "codemirror_mode": {
    "name": "ipython",
    "version": 3
   },
   "file_extension": ".py",
   "mimetype": "text/x-python",
   "name": "python",
   "nbconvert_exporter": "python",
   "pygments_lexer": "ipython3",
   "version": "3.11.11"
  }
 },
 "nbformat": 4,
 "nbformat_minor": 5
}
