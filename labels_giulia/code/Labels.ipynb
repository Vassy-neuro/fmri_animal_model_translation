{
 "cells": [
  {
   "cell_type": "markdown",
   "id": "1574a020-97e7-46a7-8712-dfe93a8ff2f1",
   "metadata": {},
   "source": [
    "#This script is designed to process data from a TSV file, extract specific values, and organize them into a structured JSON file. It uses the pandas library for data handling and the json library for saving the final output. The main goal is to create a dictionary where each key represents a unique combination of categories (e.g., ContA:ContB), and the corresponding value is a list of all data points from that specific column in the original TSV file."
   ]
  },
  {
   "cell_type": "code",
   "execution_count": null,
   "id": "26ec3a7c-c6d6-4ead-8400-8066d2893f46",
   "metadata": {},
   "outputs": [],
   "source": [
    "import pandas as pd\n",
    "import json\n",
    "\n",
    "def load_data(file_path):\n",
    "    \"\"\"Loads a TSV file into a pandas DataFrame.\"\"\"\n",
    "    return pd.read_csv(file_path, sep='\\t')\n",
    "\n",
    "def create_labeled_data_dictionary(df):\n",
    "    \"\"\"\n",
    "    Creates a dictionary with labels as keys and corresponding column values as lists.\n",
    "    \n",
    "    This function iterates through the DataFrame's column names, assuming they follow\n",
    "    a 'Prefix1-Prefix2...' format. It creates a label like 'Prefix1:Prefix2' and\n",
    "    assigns the entire list of values from that column to this new label in a dictionary.\n",
    "    \"\"\"\n",
    "    labeled_data = {}\n",
    "    for col in df.columns:\n",
    "        # Splits the column name by the hyphen '-'\n",
    "        parts = col.split('-')\n",
    "        \n",
    "        # Ensures there are at least two parts to form a valid label pair\n",
    "        if len(parts) >= 2:\n",
    "            label = f\"{parts[0]}:{parts[1]}\"\n",
    "            \n",
    "            # Extracts all values from the column and converts them into a list\n",
    "            values = df[col].tolist()\n",
    "            \n",
    "            # Stores the list of values with the generated label as the key\n",
    "            labeled_data[label] = values\n",
    "            \n",
    "    return labeled_data"
   ]
  },
  {
   "cell_type": "code",
   "execution_count": null,
   "id": "ff4c260c-bbfd-448b-b21a-48755531e1d8",
   "metadata": {},
   "outputs": [],
   "source": [
    "if __name__ == \"__main__\":\n",
    "    file_path = 'yashoda_datasets_code/gc_network_wide_with_depression_filtered.tsv'\n",
    "    \n",
    "    try:\n",
    "        # Load the data from the specified TSV file path\n",
    "        data_df = load_data(file_path)\n",
    "        \n",
    "        # Call the function to create the dictionary with labels and associated values\n",
    "        labeled_data = create_labeled_data_dictionary(data_df)\n",
    "        \n",
    "        # Define the output file path for the JSON file\n",
    "        output_file_path = 'labeled_data.json'\n",
    "        \n",
    "        # Save the resulting dictionary to a JSON file with pretty-printing (indent=4)\n",
    "        with open(output_file_path, 'w') as f:\n",
    "            json.dump(labeled_data, f, indent=4)\n",
    "        \n",
    "        # Print a success message to the console\n",
    "        print(f\"Labeled data has been saved to '{output_file_path}'\")\n",
    "        \n",
    "    except FileNotFoundError:\n",
    "        print(f\"Error: The file was not found at the specified path: {file_path}\")\n",
    "    except Exception as e:\n",
    "        print(f\"An error occurred: {e}\")"
   ]
  }
 ],
 "metadata": {
  "kernelspec": {
   "display_name": "Python 3 (ipykernel)",
   "language": "python",
   "name": "python3"
  },
  "language_info": {
   "codemirror_mode": {
    "name": "ipython",
    "version": 3
   },
   "file_extension": ".py",
   "mimetype": "text/x-python",
   "name": "python",
   "nbconvert_exporter": "python",
   "pygments_lexer": "ipython3",
   "version": "3.11.11"
  }
 },
 "nbformat": 4,
 "nbformat_minor": 5
}
