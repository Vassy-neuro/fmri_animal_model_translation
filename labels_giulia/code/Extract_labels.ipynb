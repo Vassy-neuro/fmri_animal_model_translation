{
 "cells": [
  {
   "cell_type": "markdown",
   "id": "98c99654-1054-4747-b51c-faba4e774a9a",
   "metadata": {},
   "source": [
    "# This script is designed to process data from a TSV file and extract a unique list of labels from its column names. It uses the pandas library to read the data and standard Python to handle the list of labels. The primary function of the script is to create an array-like list where each label is formatted as CategoryA:CategoryB, and then save this list to a text file.\n",
    "\n"
   ]
  },
  {
   "cell_type": "code",
   "execution_count": null,
   "id": "823a3e72-c5c4-4122-b098-ed360af6bd97",
   "metadata": {},
   "outputs": [],
   "source": [
    "import pandas as pd\n",
    "\n",
    "def load_data(file_path):\n",
    "    \"\"\"Loads a TSV file into a pandas DataFrame.\"\"\"\n",
    "    return pd.read_csv(file_path, sep='\\t')\n",
    "\n",
    "def create_label_array(df):\n",
    "    \"\"\"\n",
    "    Creates an array of labels based on the format 'CategoryA:CategoryB' \n",
    "    from the DataFrame's column names.\n",
    "    \"\"\"\n",
    "    labels = []\n",
    "    # Assuming the column names follow the format 'Prefix1-Prefix2...'\n",
    "    for col in df.columns:\n",
    "        # Splits the column name using the hyphen '-'\n",
    "        parts = col.split('-')\n",
    "        \n",
    "        # Labels seem to be the combination of the first and second parts\n",
    "        if len(parts) >= 2:\n",
    "            label = f\"{parts[0]}:{parts[1]}\"\n",
    "            labels.append(label)\n",
    "        \n",
    "    # To remove duplicates while preserving order, we use a dictionary\n",
    "    unique_labels = list(dict.fromkeys(labels))\n",
    "    return unique_labels"
   ]
  },
  {
   "cell_type": "code",
   "execution_count": null,
   "id": "d0b26e3e-d1f2-4294-9042-d201f0e07407",
   "metadata": {},
   "outputs": [],
   "source": [
    "if __name__ == \"__main__\":\n",
    "    file_path = 'yashoda_datasets_code/gc_network_wide_with_depression_filtered.tsv'\n",
    "    \n",
    "    try:\n",
    "        # Load the data\n",
    "        data_df = load_data(file_path)\n",
    "        \n",
    "        # Create the array of labels\n",
    "        label_array = create_label_array(data_df)\n",
    "        \n",
    "        # Print the resulting array to the console\n",
    "        print(\"Array of labels created:\")\n",
    "        print(label_array)\n",
    "        \n",
    "        # For example, you can get the number of unique labels\n",
    "        print(f\"\\nTotal number of unique labels: {len(label_array)}\")\n",
    "        \n",
    "        # Save the array to a new text file named 'output_labels.txt'\n",
    "        with open('output_labels.txt', 'w') as f:\n",
    "            for item in label_array:\n",
    "                f.write(f\"{item}\\n\")\n",
    "        \n",
    "        print(\"\\nArray of labels saved to output_labels.txt\")\n",
    "\n",
    "    except FileNotFoundError:\n",
    "        print(f\"Error: File not found at the path: {file_path}\")\n",
    "    except Exception as e:\n",
    "        print(f\"An error occurred: {e}\")"
   ]
  }
 ],
 "metadata": {
  "kernelspec": {
   "display_name": "Python 3 (ipykernel)",
   "language": "python",
   "name": "python3"
  },
  "language_info": {
   "codemirror_mode": {
    "name": "ipython",
    "version": 3
   },
   "file_extension": ".py",
   "mimetype": "text/x-python",
   "name": "python",
   "nbconvert_exporter": "python",
   "pygments_lexer": "ipython3",
   "version": "3.11.11"
  }
 },
 "nbformat": 4,
 "nbformat_minor": 5
}
